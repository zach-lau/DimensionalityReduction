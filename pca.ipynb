{
 "cells": [
  {
   "attachments": {},
   "cell_type": "markdown",
   "metadata": {},
   "source": [
    "# PCA Demonstration\n",
    "This PCA demonstration uses sci-kit learn PCA. Input features are centered but not scaled before finding the eigenvectors. Place training images in the \"./spiraldata\" folder (or update this variable in the code). When images show up from opencv make sure to hit a key to make them go away. DO NOT close the window or the kernel will crash.\n",
    "\n",
    "References:  \n",
    "https://scikit-learn.org/stable/modules/generated/sklearn.datasets.fetch_openml.html  \n",
    "https://towardsdatascience.com/pca-using-python-scikit-learn-e653f8989e60  \n",
    "https://www.youtube.com/watch?v=ey2PE5xi9-A#t=2385  "
   ]
  },
  {
   "cell_type": "code",
   "execution_count": 1,
   "metadata": {},
   "outputs": [],
   "source": [
    "import numpy as np\n",
    "import cv2 as cv"
   ]
  },
  {
   "cell_type": "code",
   "execution_count": 2,
   "metadata": {},
   "outputs": [],
   "source": [
    "# Parameters to be used everywhere\n",
    "shape = (400,300,3)\n",
    "resize = (300,400) # for some reason this is backward in opencv\n"
   ]
  },
  {
   "cell_type": "code",
   "execution_count": 3,
   "metadata": {},
   "outputs": [],
   "source": [
    "def vec_to_image(vec, shape):\n",
    "    vec = vec.astype(np.uint8) \n",
    "    vec = vec.reshape(shape)\n",
    "    vec[vec<0] = 0\n",
    "    vec[vec>255] = 255\n",
    "    return vec"
   ]
  },
  {
   "cell_type": "code",
   "execution_count": 4,
   "metadata": {},
   "outputs": [
    {
     "name": "stdout",
     "output_type": "stream",
     "text": [
      "Invalid image file: spiral.mp4\n"
     ]
    }
   ],
   "source": [
    "# Import and flatten our images\n",
    "import os\n",
    "# Eraser data\n",
    "data_dir = \"./spiraldata\"\n",
    "files = os.listdir(data_dir)\n",
    "# Assume sequential naming\n",
    "fuzz = 10 # Avoid over-reliance on temporal similarity\n",
    "files.sort()\n",
    "files = files[::fuzz]\n",
    "data = []\n",
    "names = []\n",
    "for file in files:\n",
    "    relative_path = os.path.join(data_dir, file)\n",
    "    img = cv.imread(relative_path)\n",
    "    if img is None:\n",
    "        print(f\"Invalid image file: {file}\")\n",
    "        continue\n",
    "    img = cv.resize(img, (300,400))\n",
    "    img_vec = img.flatten()\n",
    "    data.append(img_vec)\n",
    "    names.append(file)"
   ]
  },
  {
   "cell_type": "code",
   "execution_count": 5,
   "metadata": {},
   "outputs": [],
   "source": [
    "from sklearn.decomposition import PCA\n",
    "from sklearn.preprocessing import StandardScaler"
   ]
  },
  {
   "cell_type": "code",
   "execution_count": 6,
   "metadata": {},
   "outputs": [],
   "source": [
    "# Scale our data - this is not necessary for image data\n",
    "# scaler = StandardScaler()\n",
    "# scaler.fit(data)\n",
    "# data = scaler.transform(data)"
   ]
  },
  {
   "cell_type": "code",
   "execution_count": 7,
   "metadata": {},
   "outputs": [
    {
     "name": "stdout",
     "output_type": "stream",
     "text": [
      "[0.17754167 0.12395602]\n"
     ]
    }
   ],
   "source": [
    "# This will take a long time for larger datasets\n",
    "# e.g. 1-2 minutes for 500 images\n",
    "pca = PCA(n_components=2)\n",
    "pca.fit(data)\n",
    "print(pca.explained_variance_ratio_)"
   ]
  },
  {
   "cell_type": "code",
   "execution_count": 8,
   "metadata": {},
   "outputs": [],
   "source": [
    "# Get the pca of the input data\n",
    "output = pca.transform(data)"
   ]
  },
  {
   "cell_type": "code",
   "execution_count": 9,
   "metadata": {},
   "outputs": [],
   "source": [
    "import matplotlib.pyplot as plt"
   ]
  },
  {
   "cell_type": "code",
   "execution_count": 10,
   "metadata": {},
   "outputs": [
    {
     "data": {
      "image/png": "[encoded data removed]",
      "text/plain": [
       "<Figure size 432x288 with 1 Axes>"
      ]
     },
     "metadata": {
      "needs_background": "light"
     },
     "output_type": "display_data"
    }
   ],
   "source": [
    "# Graphing the reduced components\n",
    "fig = plt.figure()\n",
    "ax = plt.axes()\n",
    "t=np.linspace(0, 255, num=output.shape[0])\n",
    "ax.scatter(output[:,0], output[:,1], c=t, cmap='plasma')\n",
    "label_frac = 5 # label one in 5 of the images\n",
    "for i in range(0,len(output),label_frac):\n",
    "    ax.annotate(names[i],output[i])"
   ]
  },
  {
   "cell_type": "code",
   "execution_count": 11,
   "metadata": {},
   "outputs": [],
   "source": [
    "# Graph the image of the first eigenvector\n",
    "# eigenvector = pca.components_[0]\n",
    "# eigenimage = eigenvector*np.linalg.norm(data[0])+pca.mean_\n",
    "# cv.imshow(\"First eigenvector\", vec_to_image(eigenimage, shape))\n",
    "# cv.waitKey(0)\n",
    "# cv.destroyAllWindows()"
   ]
  },
  {
   "cell_type": "code",
   "execution_count": 12,
   "metadata": {},
   "outputs": [],
   "source": [
    "# Reconstruct our data[0] using the components found from pca\n",
    "# num_to_retain = 50 # make sure this is actually less than number of components\n",
    "# recover = np.matmul(output[:,:num_to_retain],pca.components_[:num_to_retain])+pca.mean_\n",
    "\n",
    "# cv.imshow(\"Reconstruction\", vec_to_image(recover[0], shape))\n",
    "# cv.waitKey(0)\n",
    "# cv.destroyAllWindows()"
   ]
  }
 ],
 "metadata": {
  "kernelspec": {
   "display_name": "Python 3.8.10 64-bit",
   "language": "python",
   "name": "python3"
  },
  "language_info": {
   "codemirror_mode": {
    "name": "ipython",
    "version": 3
   },
   "file_extension": ".py",
   "mimetype": "text/x-python",
   "name": "python",
   "nbconvert_exporter": "python",
   "pygments_lexer": "ipython3",
   "version": "3.8.10"
  },
  "orig_nbformat": 4,
  "vscode": {
   "interpreter": {
    "hash": "31f2aee4e71d21fbe5cf8b01ff0e069b9275f58929596ceb00d14d90e3e16cd6"
   }
  }
 },
 "nbformat": 4,
 "nbformat_minor": 2
}
